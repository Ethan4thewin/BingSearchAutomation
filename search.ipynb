{
 "cells": [
  {
   "cell_type": "markdown",
   "metadata": {},
   "source": [
    "# Setup & Function"
   ]
  },
  {
   "cell_type": "code",
   "execution_count": 2,
   "metadata": {},
   "outputs": [],
   "source": [
    "import json\n",
    "import time\n",
    "import logging\n",
    "\n",
    "import requests\n",
    "from selenium import webdriver\n",
    "from selenium.webdriver.common.keys import Keys\n",
    "from selenium.webdriver.common.by import By\n",
    "from selenium.webdriver.firefox.options import Options\n",
    "\n",
    "from selenium.webdriver.support.ui import WebDriverWait"
   ]
  },
  {
   "cell_type": "code",
   "execution_count": 3,
   "metadata": {},
   "outputs": [],
   "source": [
    "logging.basicConfig(level=logging.INFO)\n",
    "\n",
    "def wait_for(sec=2):\n",
    "    time.sleep(sec)\n",
    "\n",
    "def wait_for_page_load(driver):\n",
    "    WebDriverWait(driver, 10).until(\n",
    "        lambda driver: driver.execute_script(\"return document.readyState\") == \"complete\"\n",
    "    )"
   ]
  },
  {
   "cell_type": "markdown",
   "metadata": {},
   "source": [
    "---"
   ]
  },
  {
   "cell_type": "markdown",
   "metadata": {},
   "source": [
    "# PC search"
   ]
  },
  {
   "cell_type": "code",
   "execution_count": 27,
   "metadata": {},
   "outputs": [
    {
     "name": "stdout",
     "output_type": "stream",
     "text": [
      "30 words selected from https://random-word-api.herokuapp.com/word?number=30\n"
     ]
    }
   ],
   "source": [
    "randomlists_url = \"https://random-word-api.herokuapp.com/word?number=30\"\n",
    "response = requests.get(randomlists_url)\n",
    "words_list = json.loads(response.text)\n",
    "print('{0} words selected from {1}'.format(len(words_list), randomlists_url))"
   ]
  },
  {
   "cell_type": "code",
   "execution_count": 12,
   "metadata": {},
   "outputs": [],
   "source": [
    "driver = webdriver.Edge()\n",
    "wait_for(5)\n",
    "driver.get(\"https://rewards.bing.com\")\n",
    "wait_for(5)"
   ]
  },
  {
   "cell_type": "code",
   "execution_count": null,
   "metadata": {},
   "outputs": [],
   "source": [
    "for num, word in enumerate(words_list):\n",
    "    print('{0}. Searching for: {1}'.format(str(num + 1), word))\n",
    "    try:\n",
    "        driver.get(\"http://www.bing.com/\")\n",
    "        search_box = driver.find_element(By.ID, \"sb_form_q\")\n",
    "        search_box.clear()\n",
    "        search_box.send_keys(word)\n",
    "        search_box.send_keys(Keys.ENTER)\n",
    "    except Exception as e1:\n",
    "        print(e1)\n",
    "    wait_for(7.5)\n",
    "\n",
    "driver.close()"
   ]
  },
  {
   "cell_type": "markdown",
   "metadata": {},
   "source": [
    "---"
   ]
  },
  {
   "cell_type": "markdown",
   "metadata": {},
   "source": [
    "# Mobile Search"
   ]
  },
  {
   "cell_type": "code",
   "execution_count": 2,
   "metadata": {},
   "outputs": [],
   "source": [
    "randomlists_url = \"https://random-word-api.herokuapp.com/word?number=20\"\n",
    "response = requests.get(randomlists_url)\n",
    "words_list = json.loads(response.text)\n",
    "logging.info('%d words selected from %s', len(words_list), randomlists_url)"
   ]
  },
  {
   "cell_type": "code",
   "execution_count": null,
   "metadata": {},
   "outputs": [],
   "source": [
    "profile = webdriver.FirefoxProfile()\n",
    "profile.set_preference(\"general.useragent.override\", \"Mozilla/5.0 (Android 6.0.1; Mobile; rv:63.0) Gecko/63.0 Firefox/63.0\")\n",
    "\n",
    "options = Options()\n",
    "options.profile = profile\n",
    "\n",
    "with webdriver.Firefox(options=options) as driver:\n",
    "    driver.set_window_size(360, 640)\n",
    "    driver.get(\"https://rewards.bing.com\")\n",
    "    wait_for(10)\n",
    "\n",
    "    email = \"<your email here>\"\n",
    "    passwd = \"<your password here>\"\n",
    "    try:\n",
    "        login_box = driver.find_element(By.ID, \"i0116\")\n",
    "        login_box.send_keys(email)\n",
    "        login_box.send_keys(Keys.ENTER)\n",
    "\n",
    "        wait_for_page_load(driver)\n",
    "        wait_for(3)\n",
    "        pass_box = driver.find_element(By.ID, \"i0118\")\n",
    "        pass_box.send_keys(passwd)\n",
    "        pass_box.send_keys(Keys.ENTER)\n",
    "\n",
    "        wait_for_page_load(driver)\n",
    "        wait_for(3)\n",
    "        stay_signed = driver.find_element(By.ID, \"idBtn_Back\")\n",
    "        stay_signed.click()\n",
    "    except Exception as e1:\n",
    "        logging.error('An error occurred: %s', e1)\n",
    "\n",
    "    wait_for_page_load(driver)\n",
    "    wait_for(3)\n",
    "    \n",
    "    for num, word in enumerate(words_list):\n",
    "        print('{0}. Searching for: {1}'.format(str(num + 1), word))\n",
    "        try:\n",
    "            driver.get(\"http://www.bing.com/\")\n",
    "            wait_for(3)\n",
    "            search_box = driver.find_element(By.ID, \"sb_form_q\")\n",
    "            search_box.clear()\n",
    "            search_box.send_keys(word)\n",
    "            search_box.send_keys(Keys.ENTER)\n",
    "        except Exception as e1:\n",
    "            logging.error('An error occurred: %s', e1)\n",
    "        wait_for(7.5)"
   ]
  },
  {
   "cell_type": "code",
   "execution_count": 6,
   "metadata": {},
   "outputs": [],
   "source": [
    "# Define mobile emulation options\n",
    "mobile_emulation = {\n",
    "    \"deviceMetrics\": {\"width\": 360, \"height\": 640, \"pixelRatio\": 3.0},\n",
    "    \"userAgent\": \"Mozilla/5.0 (Android 6.0.1; Mobile; rv:63.0) Gecko/63.0 Firefox/63.0\"\n",
    "}\n",
    "\n",
    "# Set up Microsoft Edge options with mobile emulation\n",
    "edge_options = webdriver.EdgeOptions()\n",
    "edge_options.add_experimental_option(\"mobileEmulation\", mobile_emulation)\n",
    "\n",
    "# Create Edge WebDriver instance with options\n",
    "driver = webdriver.Edge(options=edge_options)\n",
    "\n",
    "# Set window size (optional)\n",
    "driver.set_window_size(360, 640)\n",
    "\n",
    "# Navigate to a website\n",
    "driver.get(\"https://rewards.bing.com\")\n",
    "wait_for(10)\n",
    "\n",
    "# Perform mobile search actions\n",
    "for num, word in enumerate(words_list):\n",
    "    print('{0}. Searching for: {1}'.format(str(num + 1), word))\n",
    "    try:\n",
    "        driver.get(\"http://www.bing.com/\")\n",
    "        wait_for(3)\n",
    "        search_box = driver.find_element(By.ID, \"sb_form_q\")\n",
    "        search_box.clear()\n",
    "        search_box.send_keys(word)\n",
    "        search_box.send_keys(Keys.ENTER)\n",
    "    except Exception as e1:\n",
    "        logging.error('An error occurred: %s', e1)\n",
    "    wait_for(7.5)\n",
    "\n",
    "# Close the browser\n",
    "driver.quit()"
   ]
  },
  {
   "cell_type": "markdown",
   "metadata": {},
   "source": [
    "---"
   ]
  },
  {
   "cell_type": "markdown",
   "metadata": {},
   "source": [
    "# Testing Area"
   ]
  },
  {
   "cell_type": "code",
   "execution_count": 7,
   "metadata": {},
   "outputs": [],
   "source": [
    "profile = webdriver.FirefoxProfile()\n",
    "profile.set_preference(\"general.useragent.override\", \"Mozilla/5.0 (Android 6.0.1; Mobile; rv:63.0) Gecko/63.0 Firefox/63.0\")\n",
    "\n",
    "options = Options()\n",
    "options.profile = profile"
   ]
  },
  {
   "cell_type": "code",
   "execution_count": null,
   "metadata": {},
   "outputs": [],
   "source": [
    "with webdriver.Firefox(options=options) as driver:\n",
    "    driver.set_window_size(360, 640)\n",
    "    driver.get(\"https://login.microsoftonline.com\")\n",
    "    wait_for(10)\n",
    "\n",
    "    try:\n",
    "        login_box = driver.find_element(By.ID, \"i0116\")\n",
    "        login_box.send_keys(email)\n",
    "        login_box.send_keys(Keys.ENTER)\n",
    "\n",
    "        wait_for_page_load(driver)\n",
    "        wait_for(5)\n",
    "        pass_box = driver.find_element(By.ID, \"i0118\")\n",
    "        pass_box.send_keys(passwd)\n",
    "        pass_box.send_keys(Keys.ENTER)\n",
    "\n",
    "        wait_for_page_load(driver)\n",
    "        wait_for(3)\n",
    "        stay_signed = driver.find_element(By.ID, \"idBtn_Back\")\n",
    "        stay_signed.click()\n",
    "    except Exception as e1:\n",
    "        logging.error('An error occurred: %s', e1)\n",
    "\n",
    "    wait_for_page_load(driver)\n",
    "    wait_for(7.5)\n",
    "    \n",
    "    for num, word in enumerate(words_list):\n",
    "        print('{0}. Searching for: {1}'.format(str(num + 1), word))\n",
    "        try:\n",
    "            driver.get(\"http://www.bing.com/\")\n",
    "            wait_for(3)\n",
    "            search_box = driver.find_element(By.ID, \"sb_form_q\")\n",
    "            search_box.clear()\n",
    "            search_box.send_keys(word)\n",
    "            search_box.send_keys(Keys.ENTER)\n",
    "        except Exception as e1:\n",
    "            logging.error('An error occurred: %s', e1)\n",
    "        wait_for(7.5)"
   ]
  },
  {
   "cell_type": "markdown",
   "metadata": {},
   "source": [
    "---"
   ]
  },
  {
   "cell_type": "code",
   "execution_count": null,
   "metadata": {},
   "outputs": [],
   "source": []
  }
 ],
 "metadata": {
  "kernelspec": {
   "display_name": "Python 3",
   "language": "python",
   "name": "python3"
  },
  "language_info": {
   "codemirror_mode": {
    "name": "ipython",
    "version": 3
   },
   "file_extension": ".py",
   "mimetype": "text/x-python",
   "name": "python",
   "nbconvert_exporter": "python",
   "pygments_lexer": "ipython3",
   "version": "3.11.4"
  }
 },
 "nbformat": 4,
 "nbformat_minor": 2
}
