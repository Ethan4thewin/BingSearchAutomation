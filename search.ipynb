{
 "cells": [
  {
   "cell_type": "code",
   "execution_count": 1,
   "metadata": {},
   "outputs": [],
   "source": [
    "import json\n",
    "import random\n",
    "import time\n",
    "\n",
    "import requests\n",
    "from selenium import webdriver\n",
    "from selenium.webdriver.common.keys import Keys\n",
    "from selenium.webdriver.common.by import By\n",
    "from selenium.webdriver.firefox.options import Options"
   ]
  },
  {
   "cell_type": "code",
   "execution_count": 2,
   "metadata": {},
   "outputs": [],
   "source": [
    "def wait_for(sec=2):\n",
    "    time.sleep(sec)"
   ]
  },
  {
   "cell_type": "code",
   "execution_count": null,
   "metadata": {},
   "outputs": [],
   "source": [
    "randomlists_url = \"https://www.randomlists.com/data/words.json\"\n",
    "response = requests.get(randomlists_url)\n",
    "words_list = random.sample(json.loads(response.text)['data'], 30)\n",
    "print('{0} words selected from {1}'.format(len(words_list), randomlists_url))"
   ]
  },
  {
   "cell_type": "code",
   "execution_count": 12,
   "metadata": {},
   "outputs": [],
   "source": [
    "driver = webdriver.Edge()\n",
    "wait_for(5)\n",
    "driver.get(\"https://rewards.bing.com\")\n",
    "wait_for(5)"
   ]
  },
  {
   "cell_type": "markdown",
   "metadata": {},
   "source": [
    "---"
   ]
  },
  {
   "cell_type": "code",
   "execution_count": null,
   "metadata": {},
   "outputs": [],
   "source": [
    "for num, word in enumerate(words_list):\n",
    "    print('{0}. Searching for: {1}'.format(str(num + 1), word))\n",
    "    try:\n",
    "        driver.get(\"http://www.bing.com/\")\n",
    "        search_box = driver.find_element(By.ID, \"sb_form_q\")\n",
    "        search_box.clear()\n",
    "        search_box.send_keys(word)\n",
    "        search_box.send_keys(Keys.ENTER)\n",
    "    except Exception as e1:\n",
    "        print(e1)\n",
    "    wait_for(7.5)\n",
    "\n",
    "driver.close()"
   ]
  },
  {
   "cell_type": "markdown",
   "metadata": {},
   "source": [
    "---"
   ]
  },
  {
   "cell_type": "code",
   "execution_count": 3,
   "metadata": {},
   "outputs": [],
   "source": [
    "profile = webdriver.FirefoxProfile()\n",
    "profile.set_preference(\"general.useragent.override\", \"Mozilla/5.0 (Android 6.0.1; Mobile; rv:63.0) Gecko/63.0 Firefox/63.0\")\n",
    "\n",
    "options = Options()\n",
    "options.profile = profile\n",
    "\n",
    "driver = webdriver.Firefox(options=options)\n",
    "driver.set_window_size(360,640)\n",
    "driver.get(\"https://rewards.bing.com\")"
   ]
  },
  {
   "cell_type": "code",
   "execution_count": 4,
   "metadata": {},
   "outputs": [],
   "source": [
    "email = \"<your email here>\"\n",
    "passwd = \"<your password here>\"\n",
    "try:\n",
    "    login_box = driver.find_element(By.ID, \"i0116\")\n",
    "    login_box.send_keys(email)\n",
    "    login_box.send_keys(Keys.ENTER)\n",
    "    wait_for(3)\n",
    "    pass_box = driver.find_element(By.ID, \"i0118\")\n",
    "    pass_box.send_keys(passwd)\n",
    "    pass_box.send_keys(Keys.ENTER)\n",
    "    wait_for(3)\n",
    "    stay_signed = driver.find_element(By.ID, \"idBtn_Back\")\n",
    "    stay_signed.click()\n",
    "except Exception as e1:\n",
    "    print(e1)"
   ]
  },
  {
   "cell_type": "code",
   "execution_count": null,
   "metadata": {},
   "outputs": [],
   "source": [
    "randomlists_url = \"https://www.randomlists.com/data/words.json\"\n",
    "response = requests.get(randomlists_url)\n",
    "words_list = random.sample(json.loads(response.text)['data'], 20)\n",
    "print('{0} words selected from {1}'.format(len(words_list), randomlists_url))\n",
    "\n",
    "for num, word in enumerate(words_list):\n",
    "    print('{0}. Searching for: {1}'.format(str(num + 1), word))\n",
    "    try:\n",
    "        driver.get(\"http://www.bing.com/\")\n",
    "        search_box = driver.find_element(By.ID, \"sb_form_q\")\n",
    "        search_box.clear()\n",
    "        search_box.send_keys(word)\n",
    "        search_box.send_keys(Keys.ENTER)\n",
    "    except Exception as e1:\n",
    "        print(e1)\n",
    "    wait_for(7.5)\n",
    "\n",
    "driver.close()"
   ]
  },
  {
   "cell_type": "code",
   "execution_count": null,
   "metadata": {},
   "outputs": [],
   "source": []
  }
 ],
 "metadata": {
  "kernelspec": {
   "display_name": "Python 3",
   "language": "python",
   "name": "python3"
  },
  "language_info": {
   "codemirror_mode": {
    "name": "ipython",
    "version": 3
   },
   "file_extension": ".py",
   "mimetype": "text/x-python",
   "name": "python",
   "nbconvert_exporter": "python",
   "pygments_lexer": "ipython3",
   "version": "3.11.4"
  }
 },
 "nbformat": 4,
 "nbformat_minor": 2
}
